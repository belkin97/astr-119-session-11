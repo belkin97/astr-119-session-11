{
 "cells": [
  {
   "cell_type": "markdown",
   "id": "c1f5af62",
   "metadata": {},
   "source": [
    "# Create a notebook to perform Runge-Kutta integration for multiple coupled variables"
   ]
  },
  {
   "cell_type": "code",
   "execution_count": 1,
   "id": "61a85a1d",
   "metadata": {},
   "outputs": [],
   "source": [
    "%matplotlib inline\n",
    "import matplotlib.pyplot as plt\n",
    "import numpy as np"
   ]
  },
  {
   "cell_type": "markdown",
   "id": "0e2d3412",
   "metadata": {},
   "source": [
    "### Define our coupled variables to integrate"
   ]
  },
  {
   "cell_type": "code",
   "execution_count": 2,
   "id": "567f071c",
   "metadata": {},
   "outputs": [],
   "source": [
    "def dydx(x,y):\n",
    "    \n",
    "    #set the derivatives\n",
    "    \n",
    "    # our equation is d^2y/dx^x = -y\n",
    "    \n",
    "    #so we can write\n",
    "    #dydx = x\n",
    "    #dzdx = -y\n",
    "    \n",
    "    #we will set y = y[0]\n",
    "    #we will set z = y[1]\n",
    "    \n",
    "    #decalre an array\n",
    "    y_derive = np.zeros(2)\n",
    "    \n",
    "    #set dydx = z\n",
    "    y_derive[0] = y[1]\n",
    "    \n",
    "    #set dzdx = -y\n",
    "    y_derive[1] = -1*y[0]\n",
    "    \n",
    "    #here we have to return an array\n",
    "    return y_derive"
   ]
  },
  {
   "cell_type": "markdown",
   "id": "a6edd465",
   "metadata": {},
   "source": [
    "### Define the 4th order RK method"
   ]
  },
  {
   "cell_type": "code",
   "execution_count": 3,
   "id": "c8ff76e3",
   "metadata": {},
   "outputs": [],
   "source": [
    "def rk4_mv_core(dydx,xi,yi,nv,h):\n",
    "    \n",
    "    #declare k? arrays\n",
    "    k1 = np.zeros(nv)\n",
    "    k2 = np.zeros(nv)\n",
    "    k3 = np.zeros(nv)\n",
    "    k4 = np.zeros(nv)\n",
    "    \n",
    "    #define x at 1/2 step\n",
    "    x_ipoh = x_i + 0.5*h\n",
    "    \n",
    "    #define x at 1 step\n",
    "    x_ipo = x_i + h\n",
    "    \n",
    "    #declare a temp y array\n",
    "    y_temp = np.zeros(nv)\n",
    "    \n",
    "    #get k1 values\n",
    "    y_dervis = dydx(xi,yi)\n",
    "    k1[:] = h*y_derivs[:]\n",
    "    \n",
    "    #get k2 values\n",
    "    y_temp[:] = yi[:] + 0.5*k1[:]\n",
    "    y_dervis = dydx(x_ipoh,y_temp)\n",
    "    k2[:] = h*y_derivs[:]\n",
    "    "
   ]
  },
  {
   "cell_type": "code",
   "execution_count": null,
   "id": "ef2bb2fd",
   "metadata": {},
   "outputs": [],
   "source": []
  }
 ],
 "metadata": {
  "kernelspec": {
   "display_name": "Python 3 (ipykernel)",
   "language": "python",
   "name": "python3"
  },
  "language_info": {
   "codemirror_mode": {
    "name": "ipython",
    "version": 3
   },
   "file_extension": ".py",
   "mimetype": "text/x-python",
   "name": "python",
   "nbconvert_exporter": "python",
   "pygments_lexer": "ipython3",
   "version": "3.9.7"
  }
 },
 "nbformat": 4,
 "nbformat_minor": 5
}
